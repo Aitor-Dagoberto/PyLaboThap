{
 "cells": [
  {
   "cell_type": "markdown",
   "metadata": {},
   "source": [
    "# New Notebook"
   ]
  },
  {
   "cell_type": "code",
   "execution_count": 2,
   "metadata": {},
   "outputs": [
    {
     "name": "stdout",
     "output_type": "stream",
     "text": [
      "True\n",
      "{'fluid_wf': 'R245fa', 'su_wf_T': 333.15, 'su_wf_m_dot': 0.4621, 'fluid_sf': 'Water', 'su_sf_T': 343.15, 'su_sf_cp': 4186, 'su_sf_m_dot': 2.425}\n",
      "evap\n",
      "333.15\n",
      "333.15\n",
      "1264896.7779031214\n",
      "1264896.7779031214\n",
      "1264896.7779031214 333.15 373.1500000000077\n",
      "HALLO\n",
      "1264896.7779031214\n",
      "1264896.7779031214 333.15 373.1500000000077\n",
      "HALLO\n",
      "1264896.7779031214\n",
      "1264896.7779031214 333.15 373.1500000000077\n",
      "HALLO\n",
      "1264896.7967515523\n",
      "1264896.7967515523 333.15 373.150000669176\n",
      "HALLO\n",
      "366225.42107723455\n",
      "366225.42107723455 333.15 325.1920755231689\n",
      "HALLO\n",
      "448892.3522101346\n",
      "448892.3522101346 333.15 332.10966546967575\n",
      "HALLO\n",
      "491894.3300837818\n",
      "491894.3300837818 333.15 335.32982571124387\n",
      "HALLO\n",
      "463766.1979278013\n",
      "463766.1979278013 333.15 333.2490176699206\n",
      "HALLO\n",
      "463423.17676636536\n",
      "463423.17676636536 333.15 333.22305723975506\n",
      "HALLO\n",
      "463418.88980978844\n",
      "463418.88980978844 333.15 333.2227327030873\n",
      "HALLO\n",
      "463418.8910662597\n",
      "463418.8910662597 333.15 333.2227327982066\n",
      "HALLO\n",
      "=== Heat Exchanger Results ===\n",
      "Q: 80517.61148234025\n",
      "======================\n"
     ]
    }
   ],
   "source": [
    "%run component/heat_exchanger/pinch_cst/example.py"
   ]
  },
  {
   "cell_type": "code",
   "execution_count": 1,
   "metadata": {},
   "outputs": [
    {
     "name": "stdout",
     "output_type": "stream",
     "text": [
      "Linked Pump.m-ex to Evaporator.m-su_wf\n",
      "Linked Evaporator.m-ex_wf to Expander.m-su\n",
      "Linked Expander.m-ex to Condenser.m-su_wf\n",
      "Linked Condenser.m-ex_wf to Pump.m-su\n",
      "267199\n",
      "267199\n",
      "The cycle components are fully parametrized\n",
      "<component.volumetric_machine.expander.constant_isentropic_efficiency.simulation_model.ExpanderCstEff object at 0x000001DDFF7EC9D0>\n",
      "<component.heat_exchanger.pinch_cst.simulation_model.HXPinchCst object at 0x000001DDFF7EC8B0>\n",
      "True\n",
      "{'fluid_wf': 'R245fa', 'su_wf_T': 378.9880728087523, 'su_wf_m_dot': 0.06, 'fluid_sf': 'Water', 'su_sf_T': 303.15, 'su_sf_cp': 4186, 'su_sf_m_dot': 0.4}\n",
      "<component.pump.constant_efficiency.simulation_model.PumpCstEff object at 0x000001DDD1A8B0A0>\n",
      "<component.heat_exchanger.pinch_cst.simulation_model.HXPinchCst object at 0x000001DDFF7EC790>\n",
      "True\n",
      "{'fluid_wf': 'R245fa', 'su_wf_T': 307.4112151545923, 'su_wf_m_dot': 0.06, 'fluid_sf': 'Water', 'su_sf_T': 423.15, 'su_sf_cp': 4186, 'su_sf_m_dot': 0.4}\n",
      "evap\n",
      "307.4112151545923\n",
      "307.4112151545923\n",
      "681633.1708680049\n",
      "681633.1708680049\n",
      "681633.1708680049 307.4112151545923 347.41121515477516\n",
      "HALLO\n",
      "681633.1708680049\n",
      "681633.1708680049 307.4112151545923 347.41121515477516\n",
      "HALLO\n",
      "681633.1708680049\n",
      "681633.1708680049 307.4112151545923 347.41121515477516\n",
      "HALLO\n",
      "681633.1810251307\n",
      "681633.1810251307 307.4112151545923 347.411215728885\n",
      "HALLO\n",
      "2091111.6350402564\n",
      "2091111.6350402564 307.4112151545923 397.1666497483435\n",
      "HALLO\n",
      "2948912.479712053\n",
      "2948912.479712053 307.4112151545923 415.2472597772608\n",
      "HALLO\n",
      "3545921.0268209\n",
      "3545921.0268209 307.4112151545923 425.3985296673101\n",
      "HALLO\n",
      "3709790.771772449\n"
     ]
    },
    {
     "ename": "ValueError",
     "evalue": "Pressure to PQ_flash [3.70979e+06 Pa] must be in range [ 13.7574 Pa, 3.651e+06 Pa] : PropsSI(\"T\",\"P\",3709790.772,\"Q\",0.5,\"R245fa\")",
     "output_type": "error",
     "traceback": [
      "\u001b[1;31m---------------------------------------------------------------------------\u001b[0m",
      "\u001b[1;31mValueError\u001b[0m                                Traceback (most recent call last)",
      "File \u001b[1;32m~\\OneDrive - Universite de Liege\\Documenten\\Thesis\\LaboThapLibrary\\machine\\cycle\\cycle.py:168\u001b[0m\n\u001b[0;32m    165\u001b[0m     \u001b[38;5;28mprint\u001b[39m(ORC\u001b[38;5;241m.\u001b[39mcomponents[\u001b[38;5;124m\"\u001b[39m\u001b[38;5;124mExpander\u001b[39m\u001b[38;5;124m\"\u001b[39m]\u001b[38;5;241m.\u001b[39mex\u001b[38;5;241m.\u001b[39mp)\n\u001b[0;32m    166\u001b[0m     \u001b[38;5;28mprint\u001b[39m(ORC\u001b[38;5;241m.\u001b[39mcomponents[\u001b[38;5;124m\"\u001b[39m\u001b[38;5;124mCondenser\u001b[39m\u001b[38;5;124m\"\u001b[39m]\u001b[38;5;241m.\u001b[39msu_wf\u001b[38;5;241m.\u001b[39mp)\n\u001b[1;32m--> 168\u001b[0m     \u001b[43mORC\u001b[49m\u001b[38;5;241;43m.\u001b[39;49m\u001b[43msolve\u001b[49m\u001b[43m(\u001b[49m\u001b[43m)\u001b[49m\n\u001b[0;32m    169\u001b[0m     \u001b[38;5;66;03m# print(ORC.components)\u001b[39;00m\n\u001b[0;32m    170\u001b[0m \n\u001b[0;32m    171\u001b[0m \u001b[38;5;66;03m# class System:\u001b[39;00m\n\u001b[1;32m   (...)\u001b[0m\n\u001b[0;32m    688\u001b[0m \u001b[38;5;66;03m# See for add source_sink and the connection\u001b[39;00m\n\u001b[0;32m    689\u001b[0m \u001b[38;5;66;03m# \"\"\"\u001b[39;00m\n",
      "File \u001b[1;32m~\\OneDrive - Universite de Liege\\Documenten\\Thesis\\LaboThapLibrary\\machine\\cycle\\cycle.py:91\u001b[0m, in \u001b[0;36mCycle.solve\u001b[1;34m(self)\u001b[0m\n\u001b[0;32m     89\u001b[0m \u001b[38;5;28;01mfor\u001b[39;00m component \u001b[38;5;129;01min\u001b[39;00m \u001b[38;5;28mself\u001b[39m\u001b[38;5;241m.\u001b[39mcomponents\u001b[38;5;241m.\u001b[39mvalues():\n\u001b[0;32m     90\u001b[0m     \u001b[38;5;28mprint\u001b[39m(component)\n\u001b[1;32m---> 91\u001b[0m     \u001b[43mcomponent\u001b[49m\u001b[38;5;241;43m.\u001b[39;49m\u001b[43msolve\u001b[49m\u001b[43m(\u001b[49m\u001b[43m)\u001b[49m\n",
      "File \u001b[1;32mc:\\Users\\Elise\\OneDrive - Universite de Liege\\Documenten\\Thesis\\LaboThapLibrary\\component\\heat_exchanger\\pinch_cst\\simulation_model.py:213\u001b[0m, in \u001b[0;36mHXPinchCst.solve\u001b[1;34m(self)\u001b[0m\n\u001b[0;32m    211\u001b[0m     x \u001b[38;5;241m=\u001b[39m [P_ev_guess]\n\u001b[0;32m    212\u001b[0m     \u001b[38;5;66;03m# print(x)\u001b[39;00m\n\u001b[1;32m--> 213\u001b[0m     \u001b[43mfsolve\u001b[49m\u001b[43m(\u001b[49m\u001b[38;5;28;43mself\u001b[39;49m\u001b[38;5;241;43m.\u001b[39;49m\u001b[43msystem_evap\u001b[49m\u001b[43m,\u001b[49m\u001b[43m \u001b[49m\u001b[43mx\u001b[49m\u001b[43m)\u001b[49m\n\u001b[0;32m    214\u001b[0m \u001b[38;5;28;01melif\u001b[39;00m \u001b[38;5;28mself\u001b[39m\u001b[38;5;241m.\u001b[39mparams[\u001b[38;5;124m'\u001b[39m\u001b[38;5;124mtype_HX\u001b[39m\u001b[38;5;124m'\u001b[39m] \u001b[38;5;241m==\u001b[39m \u001b[38;5;124m'\u001b[39m\u001b[38;5;124mcondenser\u001b[39m\u001b[38;5;124m'\u001b[39m:\n\u001b[0;32m    215\u001b[0m     \u001b[38;5;28;01mif\u001b[39;00m \u001b[38;5;28mself\u001b[39m\u001b[38;5;241m.\u001b[39mguesses \u001b[38;5;241m!=\u001b[39m {}:\n",
      "File \u001b[1;32mc:\\Users\\Elise\\anaconda3\\envs\\myenv\\lib\\site-packages\\scipy\\optimize\\_minpack_py.py:166\u001b[0m, in \u001b[0;36mfsolve\u001b[1;34m(func, x0, args, fprime, full_output, col_deriv, xtol, maxfev, band, epsfcn, factor, diag)\u001b[0m\n\u001b[0;32m     54\u001b[0m \u001b[38;5;250m\u001b[39m\u001b[38;5;124;03m\"\"\"\u001b[39;00m\n\u001b[0;32m     55\u001b[0m \u001b[38;5;124;03mFind the roots of a function.\u001b[39;00m\n\u001b[0;32m     56\u001b[0m \n\u001b[1;32m   (...)\u001b[0m\n\u001b[0;32m    156\u001b[0m \n\u001b[0;32m    157\u001b[0m \u001b[38;5;124;03m\"\"\"\u001b[39;00m\n\u001b[0;32m    158\u001b[0m options \u001b[38;5;241m=\u001b[39m {\u001b[38;5;124m'\u001b[39m\u001b[38;5;124mcol_deriv\u001b[39m\u001b[38;5;124m'\u001b[39m: col_deriv,\n\u001b[0;32m    159\u001b[0m            \u001b[38;5;124m'\u001b[39m\u001b[38;5;124mxtol\u001b[39m\u001b[38;5;124m'\u001b[39m: xtol,\n\u001b[0;32m    160\u001b[0m            \u001b[38;5;124m'\u001b[39m\u001b[38;5;124mmaxfev\u001b[39m\u001b[38;5;124m'\u001b[39m: maxfev,\n\u001b[1;32m   (...)\u001b[0m\n\u001b[0;32m    163\u001b[0m            \u001b[38;5;124m'\u001b[39m\u001b[38;5;124mfactor\u001b[39m\u001b[38;5;124m'\u001b[39m: factor,\n\u001b[0;32m    164\u001b[0m            \u001b[38;5;124m'\u001b[39m\u001b[38;5;124mdiag\u001b[39m\u001b[38;5;124m'\u001b[39m: diag}\n\u001b[1;32m--> 166\u001b[0m res \u001b[38;5;241m=\u001b[39m _root_hybr(func, x0, args, jac\u001b[38;5;241m=\u001b[39mfprime, \u001b[38;5;241m*\u001b[39m\u001b[38;5;241m*\u001b[39moptions)\n\u001b[0;32m    167\u001b[0m \u001b[38;5;28;01mif\u001b[39;00m full_output:\n\u001b[0;32m    168\u001b[0m     x \u001b[38;5;241m=\u001b[39m res[\u001b[38;5;124m'\u001b[39m\u001b[38;5;124mx\u001b[39m\u001b[38;5;124m'\u001b[39m]\n",
      "File \u001b[1;32mc:\\Users\\Elise\\anaconda3\\envs\\myenv\\lib\\site-packages\\scipy\\optimize\\_minpack_py.py:243\u001b[0m, in \u001b[0;36m_root_hybr\u001b[1;34m(func, x0, args, jac, col_deriv, xtol, maxfev, band, eps, factor, diag, **unknown_options)\u001b[0m\n\u001b[0;32m    241\u001b[0m     \u001b[38;5;28;01mif\u001b[39;00m maxfev \u001b[38;5;241m==\u001b[39m \u001b[38;5;241m0\u001b[39m:\n\u001b[0;32m    242\u001b[0m         maxfev \u001b[38;5;241m=\u001b[39m \u001b[38;5;241m200\u001b[39m \u001b[38;5;241m*\u001b[39m (n \u001b[38;5;241m+\u001b[39m \u001b[38;5;241m1\u001b[39m)\n\u001b[1;32m--> 243\u001b[0m     retval \u001b[38;5;241m=\u001b[39m \u001b[43m_minpack\u001b[49m\u001b[38;5;241;43m.\u001b[39;49m\u001b[43m_hybrd\u001b[49m\u001b[43m(\u001b[49m\u001b[43mfunc\u001b[49m\u001b[43m,\u001b[49m\u001b[43m \u001b[49m\u001b[43mx0\u001b[49m\u001b[43m,\u001b[49m\u001b[43m \u001b[49m\u001b[43margs\u001b[49m\u001b[43m,\u001b[49m\u001b[43m \u001b[49m\u001b[38;5;241;43m1\u001b[39;49m\u001b[43m,\u001b[49m\u001b[43m \u001b[49m\u001b[43mxtol\u001b[49m\u001b[43m,\u001b[49m\u001b[43m \u001b[49m\u001b[43mmaxfev\u001b[49m\u001b[43m,\u001b[49m\n\u001b[0;32m    244\u001b[0m \u001b[43m                             \u001b[49m\u001b[43mml\u001b[49m\u001b[43m,\u001b[49m\u001b[43m \u001b[49m\u001b[43mmu\u001b[49m\u001b[43m,\u001b[49m\u001b[43m \u001b[49m\u001b[43mepsfcn\u001b[49m\u001b[43m,\u001b[49m\u001b[43m \u001b[49m\u001b[43mfactor\u001b[49m\u001b[43m,\u001b[49m\u001b[43m \u001b[49m\u001b[43mdiag\u001b[49m\u001b[43m)\u001b[49m\n\u001b[0;32m    245\u001b[0m \u001b[38;5;28;01melse\u001b[39;00m:\n\u001b[0;32m    246\u001b[0m     _check_func(\u001b[38;5;124m'\u001b[39m\u001b[38;5;124mfsolve\u001b[39m\u001b[38;5;124m'\u001b[39m, \u001b[38;5;124m'\u001b[39m\u001b[38;5;124mfprime\u001b[39m\u001b[38;5;124m'\u001b[39m, Dfun, x0, args, n, (n, n))\n",
      "File \u001b[1;32mc:\\Users\\Elise\\OneDrive - Universite de Liege\\Documenten\\Thesis\\LaboThapLibrary\\component\\heat_exchanger\\pinch_cst\\simulation_model.py:109\u001b[0m, in \u001b[0;36mHXPinchCst.system_evap\u001b[1;34m(self, x)\u001b[0m\n\u001b[0;32m    107\u001b[0m P_ev \u001b[38;5;241m=\u001b[39m x[\u001b[38;5;241m0\u001b[39m]\n\u001b[0;32m    108\u001b[0m \u001b[38;5;28mprint\u001b[39m(P_ev)\n\u001b[1;32m--> 109\u001b[0m T_ev \u001b[38;5;241m=\u001b[39m \u001b[43mPropsSI\u001b[49m\u001b[43m(\u001b[49m\u001b[38;5;124;43m'\u001b[39;49m\u001b[38;5;124;43mT\u001b[39;49m\u001b[38;5;124;43m'\u001b[39;49m\u001b[43m,\u001b[49m\u001b[43m \u001b[49m\u001b[38;5;124;43m'\u001b[39;49m\u001b[38;5;124;43mP\u001b[39;49m\u001b[38;5;124;43m'\u001b[39;49m\u001b[43m,\u001b[49m\u001b[43m \u001b[49m\u001b[43mP_ev\u001b[49m\u001b[43m,\u001b[49m\u001b[43m \u001b[49m\u001b[38;5;124;43m'\u001b[39;49m\u001b[38;5;124;43mQ\u001b[39;49m\u001b[38;5;124;43m'\u001b[39;49m\u001b[43m,\u001b[49m\u001b[43m \u001b[49m\u001b[38;5;241;43m0.5\u001b[39;49m\u001b[43m,\u001b[49m\u001b[43m \u001b[49m\u001b[38;5;28;43mself\u001b[39;49m\u001b[38;5;241;43m.\u001b[39;49m\u001b[43msu_wf\u001b[49m\u001b[38;5;241;43m.\u001b[39;49m\u001b[43mfluid\u001b[49m\u001b[43m)\u001b[49m\n\u001b[0;32m    110\u001b[0m \u001b[38;5;28mprint\u001b[39m(P_ev, \u001b[38;5;28mself\u001b[39m\u001b[38;5;241m.\u001b[39msu_wf\u001b[38;5;241m.\u001b[39mT, T_ev)\n\u001b[0;32m    111\u001b[0m \u001b[38;5;124m\"\u001b[39m\u001b[38;5;124mRefrigerant side\u001b[39m\u001b[38;5;124m\"\u001b[39m\n",
      "File \u001b[1;32mCoolProp\\CoolProp.pyx:391\u001b[0m, in \u001b[0;36mCoolProp.CoolProp.PropsSI\u001b[1;34m()\u001b[0m\n",
      "File \u001b[1;32mCoolProp\\CoolProp.pyx:471\u001b[0m, in \u001b[0;36mCoolProp.CoolProp.PropsSI\u001b[1;34m()\u001b[0m\n",
      "File \u001b[1;32mCoolProp\\CoolProp.pyx:358\u001b[0m, in \u001b[0;36mCoolProp.CoolProp.__Props_err2\u001b[1;34m()\u001b[0m\n",
      "\u001b[1;31mValueError\u001b[0m: Pressure to PQ_flash [3.70979e+06 Pa] must be in range [ 13.7574 Pa, 3.651e+06 Pa] : PropsSI(\"T\",\"P\",3709790.772,\"Q\",0.5,\"R245fa\")"
     ]
    }
   ],
   "source": [
    "%run machine/cycle/cycle.py"
   ]
  },
  {
   "cell_type": "code",
   "execution_count": 4,
   "metadata": {},
   "outputs": [
    {
     "name": "stdout",
     "output_type": "stream",
     "text": [
      "Fluid: INCOMP::DowQ\n",
      "Mass flow rate: 0.5[kg/s]\n",
      "Volume flow rate: 2.2247889882864467[m^3/h]\n",
      "Temperature: 226.85000000000002[°C]\n",
      "Pressure: 1.01325[bar]\n",
      "Spec. enthalpy: 408385.32146991[J/kg]\n",
      "Spec. entropy: 1039.0927361604681[J/kg/K]\n",
      "Mass density: 809.0654931667821[kg/m^3]\n",
      "Quality: None[-]\n",
      "2000\n"
     ]
    }
   ],
   "source": [
    "%run connector/example/test_connectors.py"
   ]
  }
 ],
 "metadata": {
  "kernelspec": {
   "display_name": "myenv",
   "language": "python",
   "name": "python3"
  },
  "language_info": {
   "codemirror_mode": {
    "name": "ipython",
    "version": 3
   },
   "file_extension": ".py",
   "mimetype": "text/x-python",
   "name": "python",
   "nbconvert_exporter": "python",
   "pygments_lexer": "ipython3",
   "version": "3.9.18"
  }
 },
 "nbformat": 4,
 "nbformat_minor": 2
}
