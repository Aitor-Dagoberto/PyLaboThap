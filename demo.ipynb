{
 "cells": [
  {
   "cell_type": "markdown",
   "metadata": {},
   "source": [
    "# New Notebook"
   ]
  },
  {
   "cell_type": "code",
   "execution_count": 1,
   "metadata": {},
   "outputs": [
    {
     "name": "stdout",
     "output_type": "stream",
     "text": [
      "coucou1\n",
      "coucou2\n",
      "{'fluid_wf': 'R1233zd(E)', 'su_wf_T': 333.15, 'su_wf_m_dot': 0.4621, 'su_wf_x': 0, 'fluid_sf': 'Water', 'su_sf_T': 343.15, 'su_sf_p': 200000.0, 'su_sf_m_dot': 2.425, 'ex_sf_T': 335.15}\n",
      "coucou\n",
      "333.15\n",
      "Error: Incorrect fluid name: None\n",
      "=== Heat Exchanger Results ===\n",
      "Q: 81231.75279586604\n",
      "m_dot_sf: 2.4247565386538854\n",
      "T_wf_out: 338.31266396904033\n",
      "U_sub: 794.2540763595637\n",
      "U_sat: 954.0644824458951\n",
      "U_sup: 809.1910534378337\n",
      "tau: [[2.0, 1.8373360309596478], [1.8373360309596478, 9.626024985074821], [9.626024985074821, 4.626024985074821]]\n",
      "res: 963.7960063423379\n",
      "flag_tau: 0\n",
      "======================\n"
     ]
    },
    {
     "name": "stderr",
     "output_type": "stream",
     "text": [
      "c:\\Users\\Elise\\OneDrive - Universite de Liege\\Documenten\\Thesis\\LaboThapLibrary\\component\\heat_exchanger\\moving_boundary\\simple_model\\simulation_model.py:242: RuntimeWarning: divide by zero encountered in scalar divide\n",
      "  self.A_sat = Q_sat/(self.U_sat*dT_ml_sat)\n"
     ]
    }
   ],
   "source": [
    "%run component/heat_exchanger/moving_boundary/simple_model/example.py"
   ]
  }
 ],
 "metadata": {
  "kernelspec": {
   "display_name": "myenv",
   "language": "python",
   "name": "python3"
  },
  "language_info": {
   "codemirror_mode": {
    "name": "ipython",
    "version": 3
   },
   "file_extension": ".py",
   "mimetype": "text/x-python",
   "name": "python",
   "nbconvert_exporter": "python",
   "pygments_lexer": "ipython3",
   "version": "3.9.18"
  }
 },
 "nbformat": 4,
 "nbformat_minor": 2
}
